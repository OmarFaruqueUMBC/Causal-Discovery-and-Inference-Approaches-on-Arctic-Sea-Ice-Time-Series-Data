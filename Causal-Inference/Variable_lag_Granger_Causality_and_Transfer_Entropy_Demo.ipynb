{
  "nbformat": 4,
  "nbformat_minor": 0,
  "metadata": {
    "colab": {
      "provenance": []
    },
    "kernelspec": {
      "name": "ir",
      "display_name": "R"
    },
    "language_info": {
      "name": "R"
    }
  },
  "cells": [
    {
      "cell_type": "markdown",
      "source": [
        "## Causal Effect Estimation of the Arctic sea ice Dataset Using Variable lag Granger Causality and Transfer Entropy\n",
        "\n",
        "In this notebook, we will see how can we estimate the causal effect from observational data and causal graph using Variable-lag Granger Causality and Transfer Entropy .\n",
        "\n",
        "Here are the steps that will be involved in this notebook.\n",
        "1. Install and load necessary libraries\n",
        "2. Read the dataset \n",
        "3. Causal effect estimation"
      ],
      "metadata": {
        "id": "YBtU8QhXALuq"
      }
    },
    {
      "cell_type": "markdown",
      "source": [
        "---\n",
        "1. Install and load necessary libraries\n",
        "---"
      ],
      "metadata": {
        "id": "XNt7LAsqABGr"
      }
    },
    {
      "cell_type": "code",
      "source": [
        "install.packages(\"VLTimeCausality\")"
      ],
      "metadata": {
        "id": "VS498zjaAAZS",
        "colab": {
          "base_uri": "https://localhost:8080/"
        },
        "outputId": "bf7c59e3-2d15-4593-be3f-cb71aa98b93b"
      },
      "execution_count": null,
      "outputs": [
        {
          "output_type": "stream",
          "name": "stderr",
          "text": [
            "Installing package into ‘/usr/local/lib/R/site-library’\n",
            "(as ‘lib’ is unspecified)\n",
            "\n",
            "also installing the dependencies ‘xts’, ‘TTR’, ‘globals’, ‘listenv’, ‘parallelly’, ‘proxy’, ‘quadprog’, ‘zoo’, ‘quantmod’, ‘future’, ‘future.apply’, ‘Rcpp’, ‘dtw’, ‘tseries’, ‘RTransferEntropy’\n",
            "\n",
            "\n"
          ]
        }
      ]
    },
    {
      "cell_type": "code",
      "source": [
        "library(VLTimeCausality)"
      ],
      "metadata": {
        "id": "dS2JsIh6FiWC",
        "colab": {
          "base_uri": "https://localhost:8080/"
        },
        "outputId": "d4a52e51-7095-404b-e307-f59cb3b075c8"
      },
      "execution_count": null,
      "outputs": [
        {
          "output_type": "stream",
          "name": "stderr",
          "text": [
            "Loading required package: dtw\n",
            "\n",
            "Loading required package: proxy\n",
            "\n",
            "\n",
            "Attaching package: ‘proxy’\n",
            "\n",
            "\n",
            "The following objects are masked from ‘package:stats’:\n",
            "\n",
            "    as.dist, dist\n",
            "\n",
            "\n",
            "The following object is masked from ‘package:base’:\n",
            "\n",
            "    as.matrix\n",
            "\n",
            "\n",
            "Loaded dtw v1.23-1. See ?dtw for help, citation(\"dtw\") for use in publication.\n",
            "\n",
            "\n",
            "Loading required package: tseries\n",
            "\n",
            "Registered S3 method overwritten by 'quantmod':\n",
            "  method            from\n",
            "  as.zoo.data.frame zoo \n",
            "\n",
            "Loading required package: RTransferEntropy\n",
            "\n"
          ]
        }
      ]
    },
    {
      "cell_type": "code",
      "source": [
        "library(readr)"
      ],
      "metadata": {
        "id": "bH5Q22z8TZr0"
      },
      "execution_count": null,
      "outputs": []
    },
    {
      "cell_type": "markdown",
      "source": [
        "---\n",
        "2. Read the dataset \n",
        "---\n",
        "To read the dataset from Google Drive we need to mount the google drive in the Colab notebook. But there are some issues with R runtime to mount the Google Drive. To avoid those issues I have uploaded the CSV file of our dataset in the runtime memory and read the data using readr library. "
      ],
      "metadata": {
        "id": "Y5zGYgxc-vLY"
      }
    },
    {
      "cell_type": "code",
      "source": [
        "data <- read.csv(\"/content/Arctic_domain_mean_monthly_1979_2021.csv\")\n",
        "head(data)"
      ],
      "metadata": {
        "colab": {
          "base_uri": "https://localhost:8080/",
          "height": 410
        },
        "id": "XfhmNLn6TeIp",
        "outputId": "282d4f47-7571-4669-9225-90a55267e227"
      },
      "execution_count": null,
      "outputs": [
        {
          "output_type": "display_data",
          "data": {
            "text/html": [
              "<table class=\"dataframe\">\n",
              "<caption>A data.frame: 6 × 11</caption>\n",
              "<thead>\n",
              "\t<tr><th></th><th scope=col>Date</th><th scope=col>wind_10m</th><th scope=col>specific_humidity</th><th scope=col>LW_down</th><th scope=col>SW_down</th><th scope=col>rainfall</th><th scope=col>snowfall</th><th scope=col>sst</th><th scope=col>t2m</th><th scope=col>surface_pressure</th><th scope=col>sea_ice_extent</th></tr>\n",
              "\t<tr><th></th><th scope=col>&lt;chr&gt;</th><th scope=col>&lt;dbl&gt;</th><th scope=col>&lt;dbl&gt;</th><th scope=col>&lt;dbl&gt;</th><th scope=col>&lt;dbl&gt;</th><th scope=col>&lt;dbl&gt;</th><th scope=col>&lt;dbl&gt;</th><th scope=col>&lt;dbl&gt;</th><th scope=col>&lt;dbl&gt;</th><th scope=col>&lt;dbl&gt;</th><th scope=col>&lt;int&gt;</th></tr>\n",
              "</thead>\n",
              "<tbody>\n",
              "\t<tr><th scope=row>1</th><td>1979-01</td><td>5.531398</td><td>0.8119613</td><td>186.6871</td><td>  3.12788</td><td>1.0098722</td><td>0.8923188</td><td>273.3552</td><td>250.3881</td><td>984.6330</td><td>15604191</td></tr>\n",
              "\t<tr><th scope=row>2</th><td>1979-02</td><td>5.328020</td><td>0.6888964</td><td>174.7946</td><td> 18.54159</td><td>0.9208313</td><td>0.7813468</td><td>273.1219</td><td>247.0712</td><td>983.9804</td><td>16378929</td></tr>\n",
              "\t<tr><th scope=row>3</th><td>1979-03</td><td>5.432511</td><td>0.9161240</td><td>190.7419</td><td> 67.69043</td><td>0.9833265</td><td>0.8552659</td><td>273.0881</td><td>252.9541</td><td>985.1405</td><td>16521089</td></tr>\n",
              "\t<tr><th scope=row>4</th><td>1979-04</td><td>4.792836</td><td>1.2720558</td><td>212.9379</td><td>156.22367</td><td>0.8907226</td><td>0.7052033</td><td>273.1261</td><td>259.5575</td><td>989.3147</td><td>15561238</td></tr>\n",
              "\t<tr><th scope=row>5</th><td>1979-05</td><td>4.819028</td><td>2.2397755</td><td>253.6905</td><td>230.95083</td><td>1.2013085</td><td>0.6887234</td><td>273.3936</td><td>269.3751</td><td>984.4837</td><td>14085613</td></tr>\n",
              "\t<tr><th scope=row>6</th><td>1979-06</td><td>4.458702</td><td>3.7234993</td><td>287.9691</td><td>241.63900</td><td>1.5893840</td><td>0.4196643</td><td>274.3086</td><td>276.3767</td><td>980.0469</td><td>12653185</td></tr>\n",
              "</tbody>\n",
              "</table>\n"
            ],
            "text/markdown": "\nA data.frame: 6 × 11\n\n| <!--/--> | Date &lt;chr&gt; | wind_10m &lt;dbl&gt; | specific_humidity &lt;dbl&gt; | LW_down &lt;dbl&gt; | SW_down &lt;dbl&gt; | rainfall &lt;dbl&gt; | snowfall &lt;dbl&gt; | sst &lt;dbl&gt; | t2m &lt;dbl&gt; | surface_pressure &lt;dbl&gt; | sea_ice_extent &lt;int&gt; |\n|---|---|---|---|---|---|---|---|---|---|---|---|\n| 1 | 1979-01 | 5.531398 | 0.8119613 | 186.6871 |   3.12788 | 1.0098722 | 0.8923188 | 273.3552 | 250.3881 | 984.6330 | 15604191 |\n| 2 | 1979-02 | 5.328020 | 0.6888964 | 174.7946 |  18.54159 | 0.9208313 | 0.7813468 | 273.1219 | 247.0712 | 983.9804 | 16378929 |\n| 3 | 1979-03 | 5.432511 | 0.9161240 | 190.7419 |  67.69043 | 0.9833265 | 0.8552659 | 273.0881 | 252.9541 | 985.1405 | 16521089 |\n| 4 | 1979-04 | 4.792836 | 1.2720558 | 212.9379 | 156.22367 | 0.8907226 | 0.7052033 | 273.1261 | 259.5575 | 989.3147 | 15561238 |\n| 5 | 1979-05 | 4.819028 | 2.2397755 | 253.6905 | 230.95083 | 1.2013085 | 0.6887234 | 273.3936 | 269.3751 | 984.4837 | 14085613 |\n| 6 | 1979-06 | 4.458702 | 3.7234993 | 287.9691 | 241.63900 | 1.5893840 | 0.4196643 | 274.3086 | 276.3767 | 980.0469 | 12653185 |\n\n",
            "text/latex": "A data.frame: 6 × 11\n\\begin{tabular}{r|lllllllllll}\n  & Date & wind\\_10m & specific\\_humidity & LW\\_down & SW\\_down & rainfall & snowfall & sst & t2m & surface\\_pressure & sea\\_ice\\_extent\\\\\n  & <chr> & <dbl> & <dbl> & <dbl> & <dbl> & <dbl> & <dbl> & <dbl> & <dbl> & <dbl> & <int>\\\\\n\\hline\n\t1 & 1979-01 & 5.531398 & 0.8119613 & 186.6871 &   3.12788 & 1.0098722 & 0.8923188 & 273.3552 & 250.3881 & 984.6330 & 15604191\\\\\n\t2 & 1979-02 & 5.328020 & 0.6888964 & 174.7946 &  18.54159 & 0.9208313 & 0.7813468 & 273.1219 & 247.0712 & 983.9804 & 16378929\\\\\n\t3 & 1979-03 & 5.432511 & 0.9161240 & 190.7419 &  67.69043 & 0.9833265 & 0.8552659 & 273.0881 & 252.9541 & 985.1405 & 16521089\\\\\n\t4 & 1979-04 & 4.792836 & 1.2720558 & 212.9379 & 156.22367 & 0.8907226 & 0.7052033 & 273.1261 & 259.5575 & 989.3147 & 15561238\\\\\n\t5 & 1979-05 & 4.819028 & 2.2397755 & 253.6905 & 230.95083 & 1.2013085 & 0.6887234 & 273.3936 & 269.3751 & 984.4837 & 14085613\\\\\n\t6 & 1979-06 & 4.458702 & 3.7234993 & 287.9691 & 241.63900 & 1.5893840 & 0.4196643 & 274.3086 & 276.3767 & 980.0469 & 12653185\\\\\n\\end{tabular}\n",
            "text/plain": [
              "  Date    wind_10m specific_humidity LW_down  SW_down   rainfall  snowfall \n",
              "1 1979-01 5.531398 0.8119613         186.6871   3.12788 1.0098722 0.8923188\n",
              "2 1979-02 5.328020 0.6888964         174.7946  18.54159 0.9208313 0.7813468\n",
              "3 1979-03 5.432511 0.9161240         190.7419  67.69043 0.9833265 0.8552659\n",
              "4 1979-04 4.792836 1.2720558         212.9379 156.22367 0.8907226 0.7052033\n",
              "5 1979-05 4.819028 2.2397755         253.6905 230.95083 1.2013085 0.6887234\n",
              "6 1979-06 4.458702 3.7234993         287.9691 241.63900 1.5893840 0.4196643\n",
              "  sst      t2m      surface_pressure sea_ice_extent\n",
              "1 273.3552 250.3881 984.6330         15604191      \n",
              "2 273.1219 247.0712 983.9804         16378929      \n",
              "3 273.0881 252.9541 985.1405         16521089      \n",
              "4 273.1261 259.5575 989.3147         15561238      \n",
              "5 273.3936 269.3751 984.4837         14085613      \n",
              "6 274.3086 276.3767 980.0469         12653185      "
            ]
          },
          "metadata": {}
        }
      ]
    },
    {
      "cell_type": "markdown",
      "source": [
        "---\n",
        "3. Causal effect estimation \n",
        "---\n",
        "Here for each causal edge, we have used the Granger, Variable-lag Granger, and Variable-lag Transfer Entropy methods to measure the causal effect. To measure the causal effect we have to prove the cause variable, effect variable, maximum time lag, and threshold value alpha as input to different functions."
      ],
      "metadata": {
        "id": "xAQ1zhI4EiWG"
      }
    },
    {
      "cell_type": "markdown",
      "source": [
        "### Simpple Granger causality for \"sst -> sea_ice_extent\""
      ],
      "metadata": {
        "id": "tmemHOMPFX_u"
      }
    },
    {
      "cell_type": "code",
      "source": [
        "# Simpple Granger causality \n",
        "# sst -> sea_ice_extent\n",
        "\n",
        "out<-VLTimeCausality::GrangerFunc(Y=data$sea_ice_extent,X=data$sst, maxLag=5,alpha=0.05)\n",
        "\n",
        "#result\n",
        "#res<-list(ftest = ftest, p.val = pval, BIC_H1=BIC_H1, BIC_H0=BIC_H0,XgCsY=XgCsY,\n",
        "#XgCsY_ftest=XgCsY_ftest,XgCsY_BIC=XgCsY_BIC,maxLag=maxLag,H1=H1,H0=H0,BICDiffRatio=BICDiffRatio)\n",
        "print(sprintf(\"F-test value = %f\",out$ftest))\n",
        "print(sprintf(\"BICDiffRatio = %f\",out$BICDiffRatio))\n",
        "print(sprintf(\"BIC value sing only Y = %f\",out$BIC_H0))\n",
        "print(sprintf(\"BIC value sing X and Y = %f\",out$BIC_H1))\n",
        "print(sprintf(\"X causes Y? %d\",out$XgCsY))\n",
        "print(sprintf(\"F-TEST p-value = %f\",out$p.val))\n",
        "print(sprintf(\"XgCsY_ftest value = %f\",out$XgCsY_ftest))\n",
        "print(sprintf(\"XgCsY_BIC value = %f\",out$XgCsY_BIC))"
      ],
      "metadata": {
        "colab": {
          "base_uri": "https://localhost:8080/"
        },
        "id": "5Ei37HE-JNk5",
        "outputId": "7787344c-be7c-4c33-bc5a-3090e47d2dc4"
      },
      "execution_count": null,
      "outputs": [
        {
          "output_type": "stream",
          "name": "stdout",
          "text": [
            "[1] \"F-test value = 583.901253\"\n",
            "[1] \"BICDiffRatio = 0.528558\"\n",
            "[1] \"BIC value sing only Y = 2918982316774.858887\"\n",
            "[1] \"BIC value sing X and Y = 1376131276596.905273\"\n",
            "[1] \"X causes Y? 1\"\n",
            "[1] \"F-TEST p-value = 0.000000\"\n",
            "[1] \"XgCsY_ftest value = 1.000000\"\n",
            "[1] \"XgCsY_BIC value = 1.000000\"\n"
          ]
        }
      ]
    },
    {
      "cell_type": "markdown",
      "source": [
        "### Variable-lag Granger causality for \"sst -> sea_ice_extent\""
      ],
      "metadata": {
        "id": "qGyYkeEPFjTT"
      }
    },
    {
      "cell_type": "code",
      "source": [
        "# VL Granger causality\n",
        "# sst -> sea_ice_extent\n",
        "\n",
        "# VLGrangerFunc<-function(Y,X,alpha=0.05,maxLag,gamma=0.5, autoLagflag=TRUE,family = gaussian )\n",
        "# Run the function\n",
        "out<-VLTimeCausality::VLGrangerFunc(Y=data$sea_ice_extent,X=data$sst,gamma=0.5,maxLag=12)\n",
        "#result\n",
        "#res<-list(ftest = ftest, p.val = pval,BIC_H1=BIC_H1, BIC_H0=BIC_H0,\n",
        "#XgCsY_ftest=XgCsY_ftest,XgCsY_BIC=XgCsY_BIC,follOut=follOut,maxLag=maxLag,\n",
        "#H1=H1,H0=H0,BICDiffRatio=BICDiffRatio,XgCsY=XgCsY)\n",
        "\n",
        "print(sprintf(\"BICDiffRatio = %f\",out$BICDiffRatio))\n",
        "print(sprintf(\"X causes Y? %d\",out$XgCsY))\n",
        "print(sprintf(\"F-TEST p-value = %f\",out$p.val))\n",
        "print(sprintf(\"F-test value = %f\",out$ftest))\n",
        "print(sprintf(\"BIC value sing only Y = %f\",out$BIC_H0))\n",
        "print(sprintf(\"BIC value sing X and Y = %f\",out$BIC_H1))\n",
        "print(sprintf(\"XgCsY_ftest value = %f\",out$XgCsY_ftest))\n",
        "print(sprintf(\"XgCsY_BIC value = %f\",out$XgCsY_BIC))"
      ],
      "metadata": {
        "id": "tKm-BX5o-k5h",
        "colab": {
          "base_uri": "https://localhost:8080/"
        },
        "outputId": "cbe0947c-b3c5-4f85-9a96-2dd350286904"
      },
      "execution_count": null,
      "outputs": [
        {
          "output_type": "stream",
          "name": "stdout",
          "text": [
            "[1] \"BICDiffRatio = 0.528558\"\n",
            "[1] \"X causes Y? 1\"\n",
            "[1] \"F-TEST p-value = 0.000000\"\n",
            "[1] \"F-test value = 583.901253\"\n",
            "[1] \"BIC value sing only Y = 2918982316774.858887\"\n",
            "[1] \"BIC value sing X and Y = 1376131276596.905273\"\n",
            "[1] \"XgCsY_ftest value = 1.000000\"\n",
            "[1] \"XgCsY_BIC value = 1.000000\"\n"
          ]
        }
      ]
    },
    {
      "cell_type": "markdown",
      "source": [
        "### VL Transfer Entropy for \"sst -> sea_ice_extent\""
      ],
      "metadata": {
        "id": "T981jtNKFsgD"
      }
    },
    {
      "cell_type": "code",
      "source": [
        "# VL Transfer Entropy\n",
        "# sst -> sea_ice_extent\n",
        "\n",
        "\n",
        "out<-VLTimeCausality::VLTransferEntropy(Y=data$sea_ice_extent,X=data$sst,maxLag=12)\n",
        "#result\n",
        "#return(list(TEratio=TEratio,res=res,follOut=follOut,XgCsY_trns=XgCsY_trns,pval=pval))\n",
        "\n",
        "print(out$res)\n",
        "print(sprintf(\"X causes Y? %d\",out$XgCsY))\n",
        "print(sprintf(\"XgCsY_trns - X causes Y? %d\",out$XgCsY_trns))\n",
        "print(sprintf(\"F-TEST p-value = %f\",out$pval))\n",
        "print(sprintf(\"TEratio = %f\",out$TEratio))"
      ],
      "metadata": {
        "colab": {
          "base_uri": "https://localhost:8080/"
        },
        "id": "X7XNokqRL5QH",
        "outputId": "b57fb96c-e34c-4b30-af61-c562e0a561b5"
      },
      "execution_count": null,
      "outputs": [
        {
          "output_type": "stream",
          "name": "stdout",
          "text": [
            "Shannon Transfer Entropy Results:\n",
            "-----------------------------------------------------------\n",
            "Direction        TE   Eff. TE  Std.Err.   p-value    sig\n",
            "-----------------------------------------------------------\n",
            "     X->Y    0.1325    0.1202        NA        NA       \n",
            "     Y->X    0.0132    0.0007        NA        NA       \n",
            "-----------------------------------------------------------\n",
            "For calculation of standard errors and p-values set nboot > 0\n",
            "-----------------------------------------------------------\n",
            "Number of Observations: 512\n",
            "-----------------------------------------------------------\n",
            "p-values: < 0.001 '***', < 0.01 '**', < 0.05 '*', < 0.1 '.' \n",
            "[1] \"X causes Y? 1\"\n",
            "[1] \"XgCsY_trns - X causes Y? 1\"\n",
            "[1] \"F-TEST p-value = NA\"\n",
            "[1] \"TEratio = 10.035971\"\n"
          ]
        }
      ]
    },
    {
      "cell_type": "markdown",
      "source": [
        "### Simpple Granger causality for \"snowfall -> sea_ice_extent\""
      ],
      "metadata": {
        "id": "8xCH05o2Fxdq"
      }
    },
    {
      "cell_type": "code",
      "source": [
        "# Simpple Granger causality \n",
        "# snowfall -> sea_ice_extent\n",
        "\n",
        "out<-VLTimeCausality::GrangerFunc(Y=data$sea_ice_extent,X=data$snowfall, maxLag=0, alpha=0.05, gamma=0.5)\n",
        "\n",
        "#result\n",
        "#res<-list(ftest = ftest, p.val = pval, BIC_H1=BIC_H1, BIC_H0=BIC_H0,XgCsY=XgCsY,\n",
        "#XgCsY_ftest=XgCsY_ftest,XgCsY_BIC=XgCsY_BIC,maxLag=maxLag,H1=H1,H0=H0,BICDiffRatio=BICDiffRatio)\n",
        "print(sprintf(\"F-test value = %f\",out$ftest))\n",
        "print(sprintf(\"BICDiffRatio = %f\",out$BICDiffRatio))\n",
        "print(sprintf(\"BIC value sing only Y = %f\",out$BIC_H0))\n",
        "print(sprintf(\"BIC value sing X and Y = %f\",out$BIC_H1))\n",
        "print(sprintf(\"X causes Y? %d\",out$XgCsY))\n",
        "print(sprintf(\"F-TEST p-value = %f\",out$p.val))\n",
        "print(sprintf(\"XgCsY_ftest value = %f\",out$XgCsY_ftest))\n",
        "print(sprintf(\"XgCsY_BIC value = %f\",out$XgCsY_BIC))"
      ],
      "metadata": {
        "colab": {
          "base_uri": "https://localhost:8080/"
        },
        "id": "zpZbQPIGNlvn",
        "outputId": "d846b566-b711-41b7-ba3b-d4703e7a2b3e"
      },
      "execution_count": null,
      "outputs": [
        {
          "output_type": "stream",
          "name": "stdout",
          "text": [
            "[1] \"F-test value = 128.146947\"\n",
            "[1] \"BICDiffRatio = 0.319389\"\n",
            "[1] \"BIC value sing only Y = 692550518174.932861\"\n",
            "[1] \"BIC value sing X and Y = 471357818230.912415\"\n",
            "[1] \"X causes Y? 0\"\n",
            "[1] \"F-TEST p-value = 0.000000\"\n",
            "[1] \"XgCsY_ftest value = 1.000000\"\n",
            "[1] \"XgCsY_BIC value = 1.000000\"\n"
          ]
        }
      ]
    },
    {
      "cell_type": "markdown",
      "source": [
        "### VL Granger causality for \"snowfall -> sea_ice_extent\""
      ],
      "metadata": {
        "id": "SattAI7IF1Y4"
      }
    },
    {
      "cell_type": "code",
      "source": [
        "# VL Granger causality \n",
        "# snowfall -> sea_ice_extent\n",
        "\n",
        "\n",
        "out<-VLTimeCausality::VLGrangerFunc(Y=data$sea_ice_extent,X=data$snowfall,gamma=0.5,maxLag=0)\n",
        "#result\n",
        "print(sprintf(\"BICDiffRatio = %f\",out$BICDiffRatio))\n",
        "print(sprintf(\"X causes Y? %d\",out$XgCsY))\n",
        "print(sprintf(\"F-TEST p-value = %f\",out$p.val))\n",
        "print(sprintf(\"F-test value = %f\",out$ftest))\n",
        "print(sprintf(\"BIC value sing only Y = %f\",out$BIC_H0))\n",
        "print(sprintf(\"BIC value sing X and Y = %f\",out$BIC_H1))\n",
        "print(sprintf(\"XgCsY_ftest value = %f\",out$XgCsY_ftest))\n",
        "print(sprintf(\"XgCsY_BIC value = %f\",out$XgCsY_BIC))"
      ],
      "metadata": {
        "colab": {
          "base_uri": "https://localhost:8080/"
        },
        "id": "5l2-qiX_EhoU",
        "outputId": "29c64e1e-dbbc-4595-b8b9-cb7bd12c110d"
      },
      "execution_count": null,
      "outputs": [
        {
          "output_type": "stream",
          "name": "stdout",
          "text": [
            "[1] \"BICDiffRatio = 0.811640\"\n",
            "[1] \"X causes Y? 1\"\n",
            "[1] \"F-TEST p-value = 0.000000\"\n",
            "[1] \"F-test value = 2226.404479\"\n",
            "[1] \"BIC value sing only Y = 2918982316774.858887\"\n",
            "[1] \"BIC value sing X and Y = 549818356832.566162\"\n",
            "[1] \"XgCsY_ftest value = 1.000000\"\n",
            "[1] \"XgCsY_BIC value = 1.000000\"\n"
          ]
        }
      ]
    },
    {
      "cell_type": "markdown",
      "source": [
        "### VL Transfer Entropy for \"snowfall -> sea_ice_extent\""
      ],
      "metadata": {
        "id": "PiukQg8lF5F5"
      }
    },
    {
      "cell_type": "code",
      "source": [
        "# VL Transfer Entropy\n",
        "# snowfall -> sea_ice_extent\n",
        "\n",
        "out<-VLTimeCausality::VLTransferEntropy(Y=data$sea_ice_extent,X=data$snowfall,maxLag=5)\n",
        "#result\n",
        "#return(list(TEratio=TEratio,res=res,follOut=follOut,XgCsY_trns=XgCsY_trns,pval=pval))\n",
        "\n",
        "print(out$res)\n",
        "print(sprintf(\"X causes Y? %d\",out$XgCsY))\n",
        "print(sprintf(\"XgCsY_trns - X causes Y? %d\",out$XgCsY_trns))\n",
        "print(sprintf(\"F-TEST p-value = %f\",out$pval))\n",
        "print(sprintf(\"TEratio = %f\",out$TEratio))"
      ],
      "metadata": {
        "colab": {
          "base_uri": "https://localhost:8080/"
        },
        "id": "S3rm7_RmUjPf",
        "outputId": "39b737da-ec00-481f-d856-346974395548"
      },
      "execution_count": null,
      "outputs": [
        {
          "output_type": "stream",
          "name": "stdout",
          "text": [
            "Shannon Transfer Entropy Results:\n",
            "-----------------------------------------------------------\n",
            "Direction        TE   Eff. TE  Std.Err.   p-value    sig\n",
            "-----------------------------------------------------------\n",
            "     X->Y    0.0368    0.0113        NA        NA       \n",
            "     Y->X    0.0184    0.0000        NA        NA       \n",
            "-----------------------------------------------------------\n",
            "For calculation of standard errors and p-values set nboot > 0\n",
            "-----------------------------------------------------------\n",
            "Number of Observations: 512\n",
            "-----------------------------------------------------------\n",
            "p-values: < 0.001 '***', < 0.01 '**', < 0.05 '*', < 0.1 '.' \n",
            "[1] \"X causes Y? 1\"\n",
            "[1] \"XgCsY_trns - X causes Y? 1\"\n",
            "[1] \"F-TEST p-value = NA\"\n",
            "[1] \"TEratio = 2.002561\"\n"
          ]
        }
      ]
    },
    {
      "cell_type": "code",
      "source": [
        "# VL Granger causality \n",
        "# SW_down -> sea_ice_extent\n",
        "\n",
        "out<-VLTimeCausality::VLGrangerFunc(Y=data$sea_ice_extent,X=data$SW_down,gamma=0.5,maxLag=2)\n",
        "#result\n",
        "\n",
        "print(sprintf(\"BICDiffRatio = %f\",out$BICDiffRatio))\n",
        "print(sprintf(\"X causes Y? %d\",out$XgCsY))\n",
        "print(sprintf(\"F-TEST p-value = %f\",out$p.val))\n",
        "print(sprintf(\"F-test value = %f\",out$ftest))\n",
        "print(sprintf(\"BIC value sing only Y = %f\",out$BIC_H0))\n",
        "print(sprintf(\"BIC value sing X and Y = %f\",out$BIC_H1))\n",
        "print(sprintf(\"XgCsY_ftest value = %f\",out$XgCsY_ftest))\n",
        "print(sprintf(\"XgCsY_BIC value = %f\",out$XgCsY_BIC))"
      ],
      "metadata": {
        "colab": {
          "base_uri": "https://localhost:8080/"
        },
        "id": "7Ezi1tkQDn9a",
        "outputId": "b8bb3026-5816-41b8-c14c-24d81c91a14c"
      },
      "execution_count": null,
      "outputs": [
        {
          "output_type": "stream",
          "name": "stdout",
          "text": [
            "[1] \"BICDiffRatio = 0.014772\"\n",
            "[1] \"X causes Y? 0\"\n",
            "[1] \"F-TEST p-value = 0.000048\"\n",
            "[1] \"F-test value = 10.147853\"\n",
            "[1] \"BIC value sing only Y = 692550518174.932861\"\n",
            "[1] \"BIC value sing X and Y = 682320263779.297119\"\n",
            "[1] \"XgCsY_ftest value = 1.000000\"\n",
            "[1] \"XgCsY_BIC value = 1.000000\"\n"
          ]
        }
      ]
    },
    {
      "cell_type": "code",
      "source": [
        "# Simpple Granger causality \n",
        "# t2m -> sea_ice_extent\n",
        "\n",
        "out<-VLTimeCausality::GrangerFunc(Y=data$sea_ice_extent,X=data$t2m, maxLag=12,alpha=0.05)\n",
        "\n",
        "#result\n",
        "#res<-list(ftest = ftest, p.val = pval, BIC_H1=BIC_H1, BIC_H0=BIC_H0,XgCsY=XgCsY,\n",
        "#XgCsY_ftest=XgCsY_ftest,XgCsY_BIC=XgCsY_BIC,maxLag=maxLag,H1=H1,H0=H0,BICDiffRatio=BICDiffRatio)\n",
        "print(sprintf(\"F-test value = %f\",out$ftest))\n",
        "print(sprintf(\"BICDiffRatio = %f\",out$BICDiffRatio))\n",
        "print(sprintf(\"BIC value sing only Y = %f\",out$BIC_H0))\n",
        "print(sprintf(\"BIC value sing X and Y = %f\",out$BIC_H1))\n",
        "print(sprintf(\"X causes Y? %d\",out$XgCsY))\n",
        "print(sprintf(\"F-TEST p-value = %f\",out$p.val))\n",
        "print(sprintf(\"XgCsY_ftest value = %f\",out$XgCsY_ftest))\n",
        "print(sprintf(\"XgCsY_BIC value = %f\",out$XgCsY_BIC))"
      ],
      "metadata": {
        "colab": {
          "base_uri": "https://localhost:8080/"
        },
        "id": "-JJsn3Wjg5Cd",
        "outputId": "6866a5ca-2200-4321-912f-f4da63fb0d44"
      },
      "execution_count": null,
      "outputs": [
        {
          "output_type": "stream",
          "name": "stdout",
          "text": [
            "[1] \"F-test value = 2525.955883\"\n",
            "[1] \"BICDiffRatio = 0.830232\"\n",
            "[1] \"BIC value sing only Y = 2918982316774.858887\"\n",
            "[1] \"BIC value sing X and Y = 495551057101.331360\"\n",
            "[1] \"X causes Y? 1\"\n",
            "[1] \"F-TEST p-value = 0.000000\"\n",
            "[1] \"XgCsY_ftest value = 1.000000\"\n",
            "[1] \"XgCsY_BIC value = 1.000000\"\n"
          ]
        }
      ]
    },
    {
      "cell_type": "code",
      "source": [
        "# VL Granger causality \n",
        "# t2m -> sea_ice_extent\n",
        "\n",
        "\n",
        "out<-VLTimeCausality::VLGrangerFunc(Y=data$sea_ice_extent, X=data$t2m, gamma=0.5, alpha=0.05, maxLag=0)\n",
        "#result\n",
        "print(sprintf(\"BICDiffRatio = %f\",out$BICDiffRatio))\n",
        "print(sprintf(\"X causes Y? %d\",out$XgCsY))\n",
        "print(sprintf(\"F-TEST p-value = %f\",out$p.val))\n",
        "print(sprintf(\"F-test value = %f\",out$ftest))\n",
        "print(sprintf(\"BIC value sing only Y = %f\",out$BIC_H0))\n",
        "print(sprintf(\"BIC value sing X and Y = %f\",out$BIC_H1))\n",
        "print(sprintf(\"XgCsY_ftest value = %f\",out$XgCsY_ftest))\n",
        "print(sprintf(\"XgCsY_BIC value = %f\",out$XgCsY_BIC))"
      ],
      "metadata": {
        "colab": {
          "base_uri": "https://localhost:8080/"
        },
        "id": "QPfHkSxBhR3J",
        "outputId": "1c0ff28b-43b4-4dd2-e417-b258398e6d75"
      },
      "execution_count": null,
      "outputs": [
        {
          "output_type": "stream",
          "name": "stdout",
          "text": [
            "[1] \"BICDiffRatio = 0.830232\"\n",
            "[1] \"X causes Y? 1\"\n",
            "[1] \"F-TEST p-value = 0.000000\"\n",
            "[1] \"F-test value = 2525.955883\"\n",
            "[1] \"BIC value sing only Y = 2918982316774.858887\"\n",
            "[1] \"BIC value sing X and Y = 495551057101.331360\"\n",
            "[1] \"XgCsY_ftest value = 1.000000\"\n",
            "[1] \"XgCsY_BIC value = 1.000000\"\n"
          ]
        }
      ]
    },
    {
      "cell_type": "code",
      "source": [
        "# VL Granger causality \n",
        "# specific_humidity -> sea_ice_extent\n",
        "\n",
        "\n",
        "out<-VLTimeCausality::VLGrangerFunc(Y=data$sea_ice_extent, X=data$specific_humidity, gamma=0.5, maxLag=0)\n",
        "#result\n",
        "print(sprintf(\"BICDiffRatio = %f\",out$BICDiffRatio))\n",
        "print(sprintf(\"X causes Y? %d\",out$XgCsY))\n",
        "print(sprintf(\"F-TEST p-value = %f\",out$p.val))\n",
        "print(sprintf(\"F-test value = %f\",out$ftest))\n",
        "print(sprintf(\"BIC value sing only Y = %f\",out$BIC_H0))\n",
        "print(sprintf(\"BIC value sing X and Y = %f\",out$BIC_H1))\n",
        "print(sprintf(\"XgCsY_ftest value = %f\",out$XgCsY_ftest))\n",
        "print(sprintf(\"XgCsY_BIC value = %f\",out$XgCsY_BIC))"
      ],
      "metadata": {
        "colab": {
          "base_uri": "https://localhost:8080/"
        },
        "id": "O-GcF5gOiB_I",
        "outputId": "2052289f-957e-44c6-a88b-2f601bd53004"
      },
      "execution_count": null,
      "outputs": [
        {
          "output_type": "stream",
          "name": "stdout",
          "text": [
            "[1] \"BICDiffRatio = 0.884565\"\n",
            "[1] \"X causes Y? 1\"\n",
            "[1] \"F-TEST p-value = 0.000000\"\n",
            "[1] \"F-test value = 3954.445341\"\n",
            "[1] \"BIC value sing only Y = 2918982316774.858887\"\n",
            "[1] \"BIC value sing X and Y = 336953962907.633057\"\n",
            "[1] \"XgCsY_ftest value = 1.000000\"\n",
            "[1] \"XgCsY_BIC value = 1.000000\"\n"
          ]
        }
      ]
    },
    {
      "cell_type": "code",
      "source": [
        "# VL Granger causality \n",
        "# surface_pressure -> sea_ice_extent\n",
        "\n",
        "\n",
        "out<-VLTimeCausality::VLGrangerFunc(Y=data$sea_ice_extent, X=data$surface_pressure, gamma=0.5, maxLag=15)\n",
        "#result\n",
        "print(sprintf(\"BICDiffRatio = %f\",out$BICDiffRatio))\n",
        "print(sprintf(\"X causes Y? %d\",out$XgCsY))\n",
        "print(sprintf(\"F-TEST p-value = %f\",out$p.val))\n",
        "print(sprintf(\"F-test value = %f\",out$ftest))\n",
        "print(sprintf(\"BIC value sing only Y = %f\",out$BIC_H0))\n",
        "print(sprintf(\"BIC value sing X and Y = %f\",out$BIC_H1))\n",
        "print(sprintf(\"XgCsY_ftest value = %f\",out$XgCsY_ftest))\n",
        "print(sprintf(\"XgCsY_BIC value = %f\",out$XgCsY_BIC))"
      ],
      "metadata": {
        "colab": {
          "base_uri": "https://localhost:8080/"
        },
        "id": "9_Clskc2iSBe",
        "outputId": "988542c4-a26e-459f-a3fe-b3fe1c09273f"
      },
      "execution_count": null,
      "outputs": [
        {
          "output_type": "stream",
          "name": "stdout",
          "text": [
            "[1] \"BICDiffRatio = -0.015304\"\n",
            "[1] \"X causes Y? 0\"\n",
            "[1] \"F-TEST p-value = 0.002014\"\n",
            "[1] \"F-test value = 4.290287\"\n",
            "[1] \"BIC value sing only Y = 660159515244.253784\"\n",
            "[1] \"BIC value sing X and Y = 670262824885.090210\"\n",
            "[1] \"XgCsY_ftest value = 1.000000\"\n",
            "[1] \"XgCsY_BIC value = 0.000000\"\n"
          ]
        }
      ]
    }
  ]
}